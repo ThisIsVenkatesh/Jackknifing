{
 "cells": [
  {
   "cell_type": "markdown",
   "metadata": {},
   "source": [
    "**Jackknifing** is one of the re-sampling methods similar to bootstrapping. \n",
    "\n",
    "- Jackknifing is often used in statistical inference to estimate the bias and standard error (variance) of a statistic. The basic idea behind the jackknife variance estimator lies in **systematically recomputing the statistic estimate**, leaving out **one or more observations** at a time from the sample set. From this new set of replicates of the statistic, an estimate for the bias and an estimate for the variance of the statistic can be calculated. \n",
    "\n",
    "- For many(not all) statistical parameters the jackknife estimate of variance tends asymptotically to the true value almost surely. In technical terms one says that the jackknife estimate is consistent."
   ]
  },
  {
   "cell_type": "markdown",
   "metadata": {},
   "source": [
    "## Estimating the variance of the estimator using jackknifing"
   ]
  },
  {
   "cell_type": "code",
   "execution_count": 1,
   "metadata": {},
   "outputs": [],
   "source": [
    "import numpy as np"
   ]
  },
  {
   "cell_type": "code",
   "execution_count": 2,
   "metadata": {},
   "outputs": [
    {
     "data": {
      "text/plain": [
       "29.61867279625423"
      ]
     },
     "execution_count": 2,
     "metadata": {},
     "output_type": "execute_result"
    }
   ],
   "source": [
    "population_ = np.random.normal(30,10,1500)\n",
    "np.mean(population_)"
   ]
  },
  {
   "cell_type": "code",
   "execution_count": 3,
   "metadata": {},
   "outputs": [
    {
     "name": "stdout",
     "output_type": "stream",
     "text": [
      "28.890354008559505\n"
     ]
    }
   ],
   "source": [
    "sample_ = np.random.choice(population_,150) # Sampled 10 % of the population\n",
    "\n",
    "index=np.arange(len(sample_))\n",
    "\n",
    "jackknife_mean_estimates=list()\n",
    "\n",
    "\n",
    "for i in range(len(sample_)):\n",
    "    #Bootstrap sample\n",
    "    s = sample_[index!=i] # using boolean indexing to get delete-1 jackknife sample\n",
    "    m = np.mean(s);\n",
    "    jackknife_mean_estimates.append(m)\n",
    "\n",
    "jackknife_mean_estimator=np.mean(jackknife_mean_estimates)\n",
    "print(jackknife_mean_estimator)"
   ]
  },
  {
   "cell_type": "code",
   "execution_count": 4,
   "metadata": {},
   "outputs": [
    {
     "name": "stdout",
     "output_type": "stream",
     "text": [
      "0.7329966475243531\n"
     ]
    }
   ],
   "source": [
    "var_of_jackknife_estimator=np.var(jackknife_mean_estimates)*(len(sample_)-1)\n",
    "print(var_of_jackknife_estimator)"
   ]
  },
  {
   "cell_type": "markdown",
   "metadata": {},
   "source": [
    "It is not consistent for the sample median. \n",
    "\n",
    "For the more general jackknife, the delete-m observations jackknife, the bootstrap can be seen as a random approximation of it.\n",
    "\n",
    "To know about **bootstrapping** click [here](https://github.com/ThisIsVenkatesh/Bootstrapping/blob/master/Bootstrapping.ipynb)"
   ]
  }
 ],
 "metadata": {
  "kernelspec": {
   "display_name": "Python 3",
   "language": "python",
   "name": "python3"
  },
  "language_info": {
   "codemirror_mode": {
    "name": "ipython",
    "version": 3
   },
   "file_extension": ".py",
   "mimetype": "text/x-python",
   "name": "python",
   "nbconvert_exporter": "python",
   "pygments_lexer": "ipython3",
   "version": "3.6.5"
  },
  "toc": {
   "base_numbering": 1,
   "nav_menu": {},
   "number_sections": false,
   "sideBar": true,
   "skip_h1_title": false,
   "title_cell": "Table of Contents",
   "title_sidebar": "Contents",
   "toc_cell": true,
   "toc_position": {},
   "toc_section_display": true,
   "toc_window_display": true
  }
 },
 "nbformat": 4,
 "nbformat_minor": 2
}
